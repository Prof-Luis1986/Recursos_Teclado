{
  "nbformat": 4,
  "nbformat_minor": 0,
  "metadata": {
    "colab": {
      "provenance": [],
      "authorship_tag": "ABX9TyOr3/1Gbas1sWeOnQ7pfbJj",
      "include_colab_link": true
    },
    "kernelspec": {
      "name": "python3",
      "display_name": "Python 3"
    },
    "language_info": {
      "name": "python"
    }
  },
  "cells": [
    {
      "cell_type": "markdown",
      "metadata": {
        "id": "view-in-github",
        "colab_type": "text"
      },
      "source": [
        "<a href=\"https://colab.research.google.com/github/Prof-Luis1986/Recursos_Teclado/blob/main/piano_con_flet_y_makey_makey.ipynb\" target=\"_parent\"><img src=\"https://colab.research.google.com/assets/colab-badge.svg\" alt=\"Open In Colab\"/></a>"
      ]
    },
    {
      "cell_type": "markdown",
      "source": [
        "1. Importar librerías"
      ],
      "metadata": {
        "id": "VeegaGGZh4p0"
      }
    },
    {
      "cell_type": "code",
      "execution_count": null,
      "metadata": {
        "id": "p7jfIbKPhvQD"
      },
      "outputs": [],
      "source": [
        "import flet as ft\n",
        "from flet_audio import Audio\n",
        "import threading\n"
      ]
    },
    {
      "cell_type": "markdown",
      "source": [
        "* flet: permite crear interfaces gráficas con Python.\n",
        "\n",
        "* flet_audio.Audio: sirve para reproducir sonidos (.wav).\n",
        "\n",
        "* threading: lo usamos para ejecutar temporizadores (ejemplo: volver al teclado base después de 0.5 segundos)."
      ],
      "metadata": {
        "id": "qFXmbTXPh-J8"
      }
    },
    {
      "cell_type": "markdown",
      "source": [
        "2. Normalizar teclas"
      ],
      "metadata": {
        "id": "sBziVnZYjSIT"
      }
    },
    {
      "cell_type": "code",
      "source": [
        "# --- Normalizar teclas ---\n",
        "def normalizar_tecla(k: str) -> str:\n",
        "    k = (k or \"\").lower()\n",
        "    if k == \"space\":\n",
        "        return \" \"\n",
        "    return k.replace(\" \", \"\").replace(\"-\", \"\")"
      ],
      "metadata": {
        "id": "jb4QyfKOjVgN"
      },
      "execution_count": null,
      "outputs": []
    },
    {
      "cell_type": "markdown",
      "source": [
        "👉 ¿Qué hace?\n",
        "\n",
        "* Convierte cualquier tecla a minúsculas (lower).\n",
        "\n",
        "* Si la tecla es \"space\", la transforma en un espacio \" \" (para que funcione con la barra espaciadora).\n",
        "\n",
        "*\n",
        "\n",
        "```\n",
        "# Esto tiene formato de código\n",
        "```\n",
        "\n",
        "Si la tecla es \"arrow right\" o \"arrow-right\", elimina espacios y guiones para que todas las variantes se reconozcan igual como \"arrowright\"."
      ],
      "metadata": {
        "id": "fgKNtXk3jbF0"
      }
    },
    {
      "cell_type": "markdown",
      "source": [
        "3. Función para mostrar la nota"
      ],
      "metadata": {
        "id": "LDrxC8vxjm1o"
      }
    },
    {
      "cell_type": "code",
      "source": [
        "# --- Mostrar nota (recibe pagina, teclado, label y constantes) ---\n",
        "def mostrar_nota_visual(pagina, teclado, label, nombre_nota, texto_mostrar, recursos, teclado_base):\n",
        "    img_url = recursos.get(nombre_nota, {}).get(\"img\")\n",
        "    if not img_url:\n",
        "        return\n",
        "    teclado.src = img_url\n",
        "    label.value = f\"🎵 {texto_mostrar} 🎵\"\n",
        "    label.visible = True\n",
        "    pagina.update()\n",
        "\n",
        "\n",
        "    def resetear():\n",
        "        teclado.src = teclado_base\n",
        "        label.visible = False\n",
        "        pagina.update()\n",
        "    threading.Timer(0.5, resetear).start()"
      ],
      "metadata": {
        "id": "dPiy-c3ojrSy"
      },
      "execution_count": null,
      "outputs": []
    },
    {
      "cell_type": "markdown",
      "source": [
        "👉 ¿Qué hace?\n",
        "\n",
        "* Cambia la imagen del teclado por la de la nota que presionaste.\n",
        "\n",
        "* Muestra un label con el nombre de la nota (ejemplo: “🎵 Do 🎵”).\n",
        "\n",
        "* Usa un temporizador (threading.Timer) para que después de 0.5 segundos la imagen y el label desaparezcan y vuelva el teclado base."
      ],
      "metadata": {
        "id": "vwY3Qz9-juPl"
      }
    },
    {
      "cell_type": "markdown",
      "source": [
        "4. Recursos remotos"
      ],
      "metadata": {
        "id": "dOAaEr5Sj9Ph"
      }
    },
    {
      "cell_type": "code",
      "source": [
        "# --- Recursos y configuración ---\n",
        "RECURSOS = {\n",
        "    \"Do\":  {\"img\": \"https://raw.githubusercontent.com/Prof-Luis1986/Recursos_Teclado/main/Do.png\",\n",
        "            \"wav\": \"https://raw.githubusercontent.com/Prof-Luis1986/Recursos_Teclado/main/Do.wav\"},\n",
        "    \"Re\":  {\"img\": \"https://raw.githubusercontent.com/Prof-Luis1986/Recursos_Teclado/main/Re.png\",\n",
        "            \"wav\": \"https://raw.githubusercontent.com/Prof-Luis1986/Recursos_Teclado/main/Re.wav\"},\n",
        "    \"Mi\":  {\"img\": \"https://raw.githubusercontent.com/Prof-Luis1986/Recursos_Teclado/main/Mi.png\",\n",
        "            \"wav\": \"https://raw.githubusercontent.com/Prof-Luis1986/Recursos_Teclado/main/Mi.wav\"},\n",
        "    \"Fa\":  {\"img\": \"https://raw.githubusercontent.com/Prof-Luis1986/Recursos_Teclado/main/Fa.png\",\n",
        "            \"wav\": \"https://raw.githubusercontent.com/Prof-Luis1986/Recursos_Teclado/main/Fa.wav\"},\n",
        "    \"Sol\": {\"img\": \"https://raw.githubusercontent.com/Prof-Luis1986/Recursos_Teclado/main/Sol.png\",\n",
        "            \"wav\": \"https://raw.githubusercontent.com/Prof-Luis1986/Recursos_Teclado/main/Sol.wav\"},\n",
        "    \"La\":  {\"img\": \"https://raw.githubusercontent.com/Prof-Luis1986/Recursos_Teclado/main/La.png\",\n",
        "            \"wav\": \"https://raw.githubusercontent.com/Prof-Luis1986/Recursos_Teclado/main/La.wav\"},\n",
        "    \"Si\":  {\"img\": \"https://raw.githubusercontent.com/Prof-Luis1986/Recursos_Teclado/main/Si.png\",\n",
        "            \"wav\": \"https://raw.githubusercontent.com/Prof-Luis1986/Recursos_Teclado/main/Si.wav\"},\n",
        "    \"Do2\": {\"img\": \"https://raw.githubusercontent.com/Prof-Luis1986/Recursos_Teclado/main/Do2.png\",\n",
        "            \"wav\": \"https://raw.githubusercontent.com/Prof-Luis1986/Recursos_Teclado/main/Do2.wav\"},\n",
        "}\n",
        "\n",
        "TECLADO_BASE = \"https://raw.githubusercontent.com/Prof-Luis1986/Recursos_Teclado/main/Teclado.png\"\n"
      ],
      "metadata": {
        "id": "BL6iLBsOkLHe"
      },
      "execution_count": null,
      "outputs": []
    },
    {
      "cell_type": "markdown",
      "source": [
        "👉 ¿Qué hace?\n",
        "\n",
        "* Aquí estamos guardando en un diccionario (RECURSOS) las direcciones web de cada nota musical.\n",
        "\n",
        "Para cada nota tenemos:\n",
        "\n",
        "* * \"img\" → la imagen que se mostrará cuando se toque esa nota.\n",
        "\n",
        "* * \"wav\" → el sonido de la nota (archivo de audio).\n",
        "\n",
        "* Todos los enlaces provienen de tu repositorio en GitHub y usan el formato raw.githubusercontent.com, que sirve para cargar archivos directamente desde la nube.\n",
        "\n",
        "* También definimos TECLADO_BASE, que es la imagen del teclado completo antes de presionar cualquier tecla."
      ],
      "metadata": {
        "id": "cjx5zDv8kRk4"
      }
    },
    {
      "cell_type": "markdown",
      "source": [
        "5. Notas y teclas (separando “lo que suena” de “lo que se muestra”)"
      ],
      "metadata": {
        "id": "Q1KxfXxVkiJT"
      }
    },
    {
      "cell_type": "code",
      "source": [
        "# nombre: clave de RECURSOS; mostrar: texto visible en el label; teclas: qué teclas disparan la nota\n",
        "NOTAS = [\n",
        "    {\"nombre\": \"Do\",   \"mostrar\": \"Do\", \"teclas\": [\"w\"]},\n",
        "    {\"nombre\": \"Re\",   \"mostrar\": \"Re\", \"teclas\": [\"a\"]},\n",
        "    {\"nombre\": \"Mi\",   \"mostrar\": \"Mi\", \"teclas\": [\"s\"]},\n",
        "    {\"nombre\": \"Fa\",   \"mostrar\": \"Fa\", \"teclas\": [\"d\"]},\n",
        "    {\"nombre\": \"Sol\",  \"mostrar\": \"Sol\",\"teclas\": [\"f\"]},\n",
        "    {\"nombre\": \"La\",   \"mostrar\": \"La\", \"teclas\": [\"g\"]},\n",
        "    {\"nombre\": \"Si\",   \"mostrar\": \"Si\", \"teclas\": [\" \", \"space\"]},\n",
        "    # Do agudo: suena con recursos Do2 (imagen/audio), pero en el label mostramos \"Do\"\n",
        "    {\"nombre\": \"Do2\",  \"mostrar\": \"Do\", \"teclas\": [\"arrowright\", \"arrow right\", \"arrow-right\"]},\n",
        "]\n"
      ],
      "metadata": {
        "id": "3A6fINt9lDwK"
      },
      "execution_count": null,
      "outputs": []
    },
    {
      "cell_type": "markdown",
      "source": [
        "👉 ¿Qué hace?\n",
        "\n",
        "\n",
        "* nombre liga con RECURSOS (qué imagen y audio se cargan).\n",
        "\n",
        "* mostrar es el texto para el label (lo que el alumno ve).\n",
        "\n",
        "* Variantes de teclas para flecha derecha evitan fallos por escritura diferente."
      ],
      "metadata": {
        "id": "NEYerrxlmOoB"
      }
    },
    {
      "cell_type": "markdown",
      "source": [
        "6.main(page): ventana, controles y layout"
      ],
      "metadata": {
        "id": "N1CzIwujmmLt"
      }
    },
    {
      "cell_type": "code",
      "source": [
        "def main(pagina: ft.Page):\n",
        "    # Ventana\n",
        "    pagina.title = \"Piano Makey Makey\"\n",
        "    pagina.bgcolor = \"black\"\n",
        "    pagina.window_width = 800\n",
        "    pagina.window_height = 450\n",
        "    pagina.window_resizable = False\n",
        "    pagina.padding = 0\n",
        "    pagina.spacing = 0\n",
        "\n",
        "    # Controles base\n",
        "    teclado = ft.Image(src=TECLADO_BASE, width=800, height=300)\n",
        "    nota_label = ft.Text(\n",
        "        value=\"\",\n",
        "        size=40,\n",
        "        color=\"yellow\",\n",
        "        weight=\"bold\",\n",
        "        text_align=\"center\",\n",
        "        visible=False,\n",
        "    )\n",
        "\n",
        "    # Layout: label arriba, teclado abajo\n",
        "    pagina.add(\n",
        "        ft.Column(\n",
        "            [\n",
        "                ft.Container(content=nota_label, alignment=ft.alignment.center, height=100),\n",
        "                teclado,\n",
        "            ],\n",
        "            alignment=\"center\",\n",
        "            horizontal_alignment=\"center\",\n",
        "            spacing=10,\n",
        "        )\n",
        "    )"
      ],
      "metadata": {
        "id": "92WgFcFdmtSG"
      },
      "execution_count": null,
      "outputs": []
    },
    {
      "cell_type": "markdown",
      "source": [
        "👉 ¿Qué hace?\n",
        "\n",
        "* Configura la ventana y crea dos controles:\n",
        "\n",
        "  * teclado: imagen inicial.\n",
        "\n",
        "  * nota_label: texto grande, inicialmente oculto.\n",
        "\n",
        "* Los coloca en una columna centrada."
      ],
      "metadata": {
        "id": "odmLKzzem1ov"
      }
    },
    {
      "cell_type": "markdown",
      "source": [
        "7. Tabla de búsqueda (tecla → nota) y carga de audios"
      ],
      "metadata": {
        "id": "T_K23tSCnFpP"
      }
    },
    {
      "cell_type": "code",
      "source": [
        "    # Mapa tecla-normalizada -> {nombre, mostrar}\n",
        "    tecla_a_nota = {}\n",
        "    for n in NOTAS:\n",
        "        for t in n[\"teclas\"]:\n",
        "            tecla_a_nota[normalizar_tecla(t)] = {\"nombre\": n[\"nombre\"], \"mostrar\": n[\"mostrar\"]}\n",
        "\n",
        "    # Un reproductor de audio por nota, agregado al overlay de la página\n",
        "    nombre_a_audio = {}\n",
        "    for nombre, urls in RECURSOS.items():\n",
        "        reproductor = Audio(src=urls[\"wav\"])\n",
        "        nombre_a_audio[nombre] = reproductor\n",
        "        pagina.overlay.append(reproductor)"
      ],
      "metadata": {
        "id": "-KQn131GnMLv"
      },
      "execution_count": null,
      "outputs": []
    },
    {
      "cell_type": "markdown",
      "source": [
        "👉 ¿Qué hace?\n",
        "\n",
        "* tecla_a_nota: a partir de NOTAS, genera un diccionario para responder rápido: “esta tecla = esta nota”.\n",
        "\n",
        "* nombre_a_audio: prepara un Audio por cada nota y lo mete al overlay (así podemos llamar play() de inmediato)."
      ],
      "metadata": {
        "id": "SogPBRehnVeC"
      }
    },
    {
      "cell_type": "markdown",
      "source": [
        "8. Evento de teclado (reproducir + mostrar visual)"
      ],
      "metadata": {
        "id": "hV-9pjLrnfZ-"
      }
    },
    {
      "cell_type": "code",
      "source": [
        "    # Evento al presionar tecla\n",
        "    def al_presionar_tecla(evento: ft.KeyboardEvent):\n",
        "        tecla_norm = normalizar_tecla(evento.key)\n",
        "        nota_info = tecla_a_nota.get(tecla_norm)\n",
        "        if not nota_info:\n",
        "            return  # tecla no mapeada\n",
        "        nombre_nota = nota_info[\"nombre\"]\n",
        "        texto_mostrar = nota_info[\"mostrar\"]\n",
        "\n",
        "        reproductor = nombre_a_audio.get(nombre_nota)\n",
        "        if reproductor:\n",
        "            reproductor.play()\n",
        "            mostrar_nota_visual(\n",
        "                pagina, teclado, nota_label,\n",
        "                nombre_nota, texto_mostrar,\n",
        "                RECURSOS, TECLADO_BASE\n",
        "            )\n",
        "\n",
        "    pagina.on_keyboard_event = al_presionar_tecla\n",
        "    pagina.update()"
      ],
      "metadata": {
        "id": "-lkKsBXFnkVX"
      },
      "execution_count": null,
      "outputs": []
    },
    {
      "cell_type": "markdown",
      "source": [
        "👉 ¿Qué hace?\n",
        "\n",
        "* Normaliza la tecla presionada y busca si hay nota asociada.\n",
        "\n",
        "* Si hay, reproduce el audio y muestra la animación/label llamando a mostrar_nota_visual(...).\n",
        "\n",
        "* Asigna el handler a on_keyboard_event."
      ],
      "metadata": {
        "id": "YnA848NKobO9"
      }
    },
    {
      "cell_type": "markdown",
      "source": [
        "9. Ejecutar la app"
      ],
      "metadata": {
        "id": "sLTJkiLzopC0"
      }
    },
    {
      "cell_type": "code",
      "source": [
        "ft.app(target=main)"
      ],
      "metadata": {
        "id": "Z81g-1j_oxp_"
      },
      "execution_count": null,
      "outputs": []
    },
    {
      "cell_type": "markdown",
      "source": [
        "👉 ¿Qué hace?\n",
        "\n",
        "\n",
        "* Ejecuta la aplicación."
      ],
      "metadata": {
        "id": "DMr2iR2-o5_f"
      }
    },
    {
      "cell_type": "markdown",
      "source": [
        "**Código Completo**"
      ],
      "metadata": {
        "id": "Vqqln2tLo_tq"
      }
    },
    {
      "cell_type": "code",
      "source": [
        "import flet as ft\n",
        "from flet_audio import Audio\n",
        "import threading\n",
        "\n",
        "# --- Normalizar teclas ---\n",
        "def normalizar_tecla(k: str) -> str:\n",
        "    k = (k or \"\").lower()\n",
        "    if k == \"space\":\n",
        "        return \" \"\n",
        "    return k.replace(\" \", \"\").replace(\"-\", \"\")\n",
        "\n",
        "# --- Mostrar nota (recibe pagina, teclado y label como argumentos) ---\n",
        "def mostrar_nota_visual(pagina, teclado, label, nombre_nota, texto_mostrar, recursos, teclado_base):\n",
        "    img_url = recursos.get(nombre_nota, {}).get(\"img\")\n",
        "    if not img_url:\n",
        "        return\n",
        "    teclado.src = img_url\n",
        "    label.value = f\"🎵 {texto_mostrar} 🎵\"\n",
        "    label.visible = True\n",
        "    pagina.update()\n",
        "\n",
        "    def resetear():\n",
        "        teclado.src = teclado_base\n",
        "        label.visible = False\n",
        "        pagina.update()\n",
        "    threading.Timer(0.5, resetear).start()\n",
        "\n",
        "\n",
        "# --- Configuración de recursos y notas ---\n",
        "RECURSOS = {\n",
        "    \"Do\":  {\"img\": \"https://raw.githubusercontent.com/Prof-Luis1986/Recursos_Teclado/main/Do.png\",\n",
        "            \"wav\": \"https://raw.githubusercontent.com/Prof-Luis1986/Recursos_Teclado/main/Do.wav\"},\n",
        "    \"Re\":  {\"img\": \"https://raw.githubusercontent.com/Prof-Luis1986/Recursos_Teclado/main/Re.png\",\n",
        "            \"wav\": \"https://raw.githubusercontent.com/Prof-Luis1986/Recursos_Teclado/main/Re.wav\"},\n",
        "    \"Mi\":  {\"img\": \"https://raw.githubusercontent.com/Prof-Luis1986/Recursos_Teclado/main/Mi.png\",\n",
        "            \"wav\": \"https://raw.githubusercontent.com/Prof-Luis1986/Recursos_Teclado/main/Mi.wav\"},\n",
        "    \"Fa\":  {\"img\": \"https://raw.githubusercontent.com/Prof-Luis1986/Recursos_Teclado/main/Fa.png\",\n",
        "            \"wav\": \"https://raw.githubusercontent.com/Prof-Luis1986/Recursos_Teclado/main/Fa.wav\"},\n",
        "    \"Sol\": {\"img\": \"https://raw.githubusercontent.com/Prof-Luis1986/Recursos_Teclado/main/Sol.png\",\n",
        "            \"wav\": \"https://raw.githubusercontent.com/Prof-Luis1986/Recursos_Teclado/main/Sol.wav\"},\n",
        "    \"La\":  {\"img\": \"https://raw.githubusercontent.com/Prof-Luis1986/Recursos_Teclado/main/La.png\",\n",
        "            \"wav\": \"https://raw.githubusercontent.com/Prof-Luis1986/Recursos_Teclado/main/La.wav\"},\n",
        "    \"Si\":  {\"img\": \"https://raw.githubusercontent.com/Prof-Luis1986/Recursos_Teclado/main/Si.png\",\n",
        "            \"wav\": \"https://raw.githubusercontent.com/Prof-Luis1986/Recursos_Teclado/main/Si.wav\"},\n",
        "    \"Do2\": {\"img\": \"https://raw.githubusercontent.com/Prof-Luis1986/Recursos_Teclado/main/Do2.png\",\n",
        "            \"wav\": \"https://raw.githubusercontent.com/Prof-Luis1986/Recursos_Teclado/main/Do2.wav\"},\n",
        "}\n",
        "\n",
        "TECLADO_BASE = \"https://raw.githubusercontent.com/Prof-Luis1986/Recursos_Teclado/main/Teclado.png\"\n",
        "\n",
        "NOTAS = [\n",
        "    {\"nombre\": \"Do\",   \"mostrar\": \"Do\", \"teclas\": [\"w\"]},\n",
        "    {\"nombre\": \"Re\",   \"mostrar\": \"Re\", \"teclas\": [\"a\"]},\n",
        "    {\"nombre\": \"Mi\",   \"mostrar\": \"Mi\", \"teclas\": [\"s\"]},\n",
        "    {\"nombre\": \"Fa\",   \"mostrar\": \"Fa\", \"teclas\": [\"d\"]},\n",
        "    {\"nombre\": \"Sol\",  \"mostrar\": \"Sol\",\"teclas\": [\"f\"]},\n",
        "    {\"nombre\": \"La\",   \"mostrar\": \"La\", \"teclas\": [\"g\"]},\n",
        "    {\"nombre\": \"Si\",   \"mostrar\": \"Si\", \"teclas\": [\" \", \"space\"]},\n",
        "    {\"nombre\": \"Do2\",  \"mostrar\": \"Do\", \"teclas\": [\"arrowright\", \"arrow right\", \"arrow-right\"]},\n",
        "]\n",
        "\n",
        "\n",
        "# --- Main (queda lo último) ---\n",
        "def main(pagina: ft.Page):\n",
        "    pagina.title = \"Piano Makey Makey\"\n",
        "    pagina.bgcolor = \"black\"\n",
        "    pagina.window_width = 800\n",
        "    pagina.window_height = 450\n",
        "\n",
        "    teclado = ft.Image(src=TECLADO_BASE, width=800, height=300)\n",
        "    nota_label = ft.Text(\"\", size=40, color=\"yellow\", weight=\"bold\",\n",
        "                         text_align=\"center\", visible=False)\n",
        "\n",
        "    pagina.add(\n",
        "        ft.Column(\n",
        "            [\n",
        "                ft.Container(content=nota_label, alignment=ft.alignment.center, height=100),\n",
        "                teclado,\n",
        "            ],\n",
        "            alignment=\"center\",\n",
        "            horizontal_alignment=\"center\",\n",
        "        )\n",
        "    )\n",
        "\n",
        "    # Mapear teclas y audios\n",
        "    tecla_a_nota = {}\n",
        "    for n in NOTAS:\n",
        "        for t in n[\"teclas\"]:\n",
        "            tecla_a_nota[normalizar_tecla(t)] = {\"nombre\": n[\"nombre\"], \"mostrar\": n[\"mostrar\"]}\n",
        "\n",
        "    nombre_a_audio = {}\n",
        "    for nombre, urls in RECURSOS.items():\n",
        "        reproductor = Audio(src=urls[\"wav\"])\n",
        "        nombre_a_audio[nombre] = reproductor\n",
        "        pagina.overlay.append(reproductor)\n",
        "\n",
        "    # Evento de teclado\n",
        "    def al_presionar_tecla(evento: ft.KeyboardEvent):\n",
        "        tecla_norm = normalizar_tecla(evento.key)\n",
        "        nota_info = tecla_a_nota.get(tecla_norm)\n",
        "        if nota_info:\n",
        "            nombre_nota = nota_info[\"nombre\"]\n",
        "            texto_mostrar = nota_info[\"mostrar\"]\n",
        "            reproductor = nombre_a_audio.get(nombre_nota)\n",
        "            if reproductor:\n",
        "                reproductor.play()\n",
        "                mostrar_nota_visual(pagina, teclado, nota_label, nombre_nota, texto_mostrar, RECURSOS, TECLADO_BASE)\n",
        "\n",
        "    pagina.on_keyboard_event = al_presionar_tecla\n",
        "    pagina.update()\n",
        "\n",
        "\n",
        "ft.app(target=main)\n"
      ],
      "metadata": {
        "id": "gy0HLB3UpMsH"
      },
      "execution_count": null,
      "outputs": []
    }
  ]
}